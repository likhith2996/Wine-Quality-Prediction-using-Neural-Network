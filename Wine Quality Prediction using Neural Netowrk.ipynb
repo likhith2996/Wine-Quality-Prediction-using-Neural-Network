{
 "cells": [
  {
   "cell_type": "markdown",
   "metadata": {},
   "source": [
    "## Loading Libraries and Data"
   ]
  },
  {
   "cell_type": "code",
   "execution_count": 85,
   "metadata": {},
   "outputs": [],
   "source": [
    "#Implementing the Libraries\n",
    "import numpy as np\n",
    "import matplotlib.pyplot as plt\n",
    "import pandas as pd\n",
    "\n",
    "import sklearn\n",
    "from sklearn.preprocessing import MaxAbsScaler\n",
    "from sklearn.model_selection import train_test_split\n",
    "from sklearn.metrics import accuracy_score"
   ]
  },
  {
   "cell_type": "code",
   "execution_count": 86,
   "metadata": {},
   "outputs": [],
   "source": [
    "data = pd.read_csv('Wine_2020.csv') #Reading the Excel File"
   ]
  },
  {
   "cell_type": "code",
   "execution_count": 87,
   "metadata": {
    "scrolled": true
   },
   "outputs": [
    {
     "data": {
      "text/html": [
       "<div>\n",
       "<style scoped>\n",
       "    .dataframe tbody tr th:only-of-type {\n",
       "        vertical-align: middle;\n",
       "    }\n",
       "\n",
       "    .dataframe tbody tr th {\n",
       "        vertical-align: top;\n",
       "    }\n",
       "\n",
       "    .dataframe thead th {\n",
       "        text-align: right;\n",
       "    }\n",
       "</style>\n",
       "<table border=\"1\" class=\"dataframe\">\n",
       "  <thead>\n",
       "    <tr style=\"text-align: right;\">\n",
       "      <th></th>\n",
       "      <th>fixed acidity</th>\n",
       "      <th>volatile acidity</th>\n",
       "      <th>critric acid</th>\n",
       "      <th>residual sugar</th>\n",
       "      <th>chlorides</th>\n",
       "      <th>free sulfur dioxide</th>\n",
       "      <th>total sulfur dioxide</th>\n",
       "      <th>density</th>\n",
       "      <th>pH</th>\n",
       "      <th>sulphates</th>\n",
       "      <th>alcohol</th>\n",
       "      <th>quality</th>\n",
       "    </tr>\n",
       "  </thead>\n",
       "  <tbody>\n",
       "    <tr>\n",
       "      <th>0</th>\n",
       "      <td>8.567376</td>\n",
       "      <td>0.15</td>\n",
       "      <td>0.820326</td>\n",
       "      <td>1.6</td>\n",
       "      <td>0.174755</td>\n",
       "      <td>243.304154</td>\n",
       "      <td>100.354988</td>\n",
       "      <td>0.9948</td>\n",
       "      <td>3.456648</td>\n",
       "      <td>0.604694</td>\n",
       "      <td>13.297994</td>\n",
       "      <td>7</td>\n",
       "    </tr>\n",
       "    <tr>\n",
       "      <th>1</th>\n",
       "      <td>3.006749</td>\n",
       "      <td>0.28</td>\n",
       "      <td>1.602516</td>\n",
       "      <td>1.8</td>\n",
       "      <td>0.341262</td>\n",
       "      <td>218.125676</td>\n",
       "      <td>310.740380</td>\n",
       "      <td>0.9929</td>\n",
       "      <td>2.779328</td>\n",
       "      <td>1.049840</td>\n",
       "      <td>9.134693</td>\n",
       "      <td>5</td>\n",
       "    </tr>\n",
       "    <tr>\n",
       "      <th>2</th>\n",
       "      <td>7.354262</td>\n",
       "      <td>0.24</td>\n",
       "      <td>1.138284</td>\n",
       "      <td>7.7</td>\n",
       "      <td>0.303813</td>\n",
       "      <td>153.170821</td>\n",
       "      <td>166.964841</td>\n",
       "      <td>0.9938</td>\n",
       "      <td>2.945272</td>\n",
       "      <td>0.873361</td>\n",
       "      <td>10.592140</td>\n",
       "      <td>6</td>\n",
       "    </tr>\n",
       "    <tr>\n",
       "      <th>3</th>\n",
       "      <td>6.942369</td>\n",
       "      <td>0.22</td>\n",
       "      <td>1.090815</td>\n",
       "      <td>10.4</td>\n",
       "      <td>0.084264</td>\n",
       "      <td>116.195476</td>\n",
       "      <td>360.264333</td>\n",
       "      <td>0.9987</td>\n",
       "      <td>3.657075</td>\n",
       "      <td>0.565282</td>\n",
       "      <td>11.219277</td>\n",
       "      <td>6</td>\n",
       "    </tr>\n",
       "    <tr>\n",
       "      <th>4</th>\n",
       "      <td>6.235026</td>\n",
       "      <td>0.28</td>\n",
       "      <td>0.101780</td>\n",
       "      <td>8.7</td>\n",
       "      <td>0.096892</td>\n",
       "      <td>123.352272</td>\n",
       "      <td>209.157680</td>\n",
       "      <td>0.9961</td>\n",
       "      <td>2.971558</td>\n",
       "      <td>0.896674</td>\n",
       "      <td>10.438754</td>\n",
       "      <td>5</td>\n",
       "    </tr>\n",
       "  </tbody>\n",
       "</table>\n",
       "</div>"
      ],
      "text/plain": [
       "   fixed acidity  volatile acidity  critric acid  residual sugar  chlorides  \\\n",
       "0       8.567376              0.15      0.820326             1.6   0.174755   \n",
       "1       3.006749              0.28      1.602516             1.8   0.341262   \n",
       "2       7.354262              0.24      1.138284             7.7   0.303813   \n",
       "3       6.942369              0.22      1.090815            10.4   0.084264   \n",
       "4       6.235026              0.28      0.101780             8.7   0.096892   \n",
       "\n",
       "   free sulfur dioxide  total sulfur dioxide  density        pH  sulphates  \\\n",
       "0           243.304154            100.354988   0.9948  3.456648   0.604694   \n",
       "1           218.125676            310.740380   0.9929  2.779328   1.049840   \n",
       "2           153.170821            166.964841   0.9938  2.945272   0.873361   \n",
       "3           116.195476            360.264333   0.9987  3.657075   0.565282   \n",
       "4           123.352272            209.157680   0.9961  2.971558   0.896674   \n",
       "\n",
       "     alcohol  quality  \n",
       "0  13.297994        7  \n",
       "1   9.134693        5  \n",
       "2  10.592140        6  \n",
       "3  11.219277        6  \n",
       "4  10.438754        5  "
      ]
     },
     "execution_count": 87,
     "metadata": {},
     "output_type": "execute_result"
    }
   ],
   "source": [
    "data.head()"
   ]
  },
  {
   "cell_type": "code",
   "execution_count": 88,
   "metadata": {
    "scrolled": false
   },
   "outputs": [
    {
     "data": {
      "text/plain": [
       "(4000, 12)"
      ]
     },
     "execution_count": 88,
     "metadata": {},
     "output_type": "execute_result"
    }
   ],
   "source": [
    "data.shape"
   ]
  },
  {
   "cell_type": "code",
   "execution_count": 89,
   "metadata": {},
   "outputs": [],
   "source": [
    "y = data['quality'] # Target Variable as a seperate Variable\n",
    "x = data.drop('quality',axis=1)"
   ]
  },
  {
   "cell_type": "code",
   "execution_count": 90,
   "metadata": {},
   "outputs": [
    {
     "data": {
      "text/html": [
       "<div>\n",
       "<style scoped>\n",
       "    .dataframe tbody tr th:only-of-type {\n",
       "        vertical-align: middle;\n",
       "    }\n",
       "\n",
       "    .dataframe tbody tr th {\n",
       "        vertical-align: top;\n",
       "    }\n",
       "\n",
       "    .dataframe thead th {\n",
       "        text-align: right;\n",
       "    }\n",
       "</style>\n",
       "<table border=\"1\" class=\"dataframe\">\n",
       "  <thead>\n",
       "    <tr style=\"text-align: right;\">\n",
       "      <th></th>\n",
       "      <th>fixed acidity</th>\n",
       "      <th>volatile acidity</th>\n",
       "      <th>critric acid</th>\n",
       "      <th>residual sugar</th>\n",
       "      <th>chlorides</th>\n",
       "      <th>free sulfur dioxide</th>\n",
       "      <th>total sulfur dioxide</th>\n",
       "      <th>density</th>\n",
       "      <th>pH</th>\n",
       "      <th>sulphates</th>\n",
       "      <th>alcohol</th>\n",
       "    </tr>\n",
       "  </thead>\n",
       "  <tbody>\n",
       "    <tr>\n",
       "      <th>0</th>\n",
       "      <td>8.567376</td>\n",
       "      <td>0.15</td>\n",
       "      <td>0.820326</td>\n",
       "      <td>1.6</td>\n",
       "      <td>0.174755</td>\n",
       "      <td>243.304154</td>\n",
       "      <td>100.354988</td>\n",
       "      <td>0.9948</td>\n",
       "      <td>3.456648</td>\n",
       "      <td>0.604694</td>\n",
       "      <td>13.297994</td>\n",
       "    </tr>\n",
       "    <tr>\n",
       "      <th>1</th>\n",
       "      <td>3.006749</td>\n",
       "      <td>0.28</td>\n",
       "      <td>1.602516</td>\n",
       "      <td>1.8</td>\n",
       "      <td>0.341262</td>\n",
       "      <td>218.125676</td>\n",
       "      <td>310.740380</td>\n",
       "      <td>0.9929</td>\n",
       "      <td>2.779328</td>\n",
       "      <td>1.049840</td>\n",
       "      <td>9.134693</td>\n",
       "    </tr>\n",
       "    <tr>\n",
       "      <th>2</th>\n",
       "      <td>7.354262</td>\n",
       "      <td>0.24</td>\n",
       "      <td>1.138284</td>\n",
       "      <td>7.7</td>\n",
       "      <td>0.303813</td>\n",
       "      <td>153.170821</td>\n",
       "      <td>166.964841</td>\n",
       "      <td>0.9938</td>\n",
       "      <td>2.945272</td>\n",
       "      <td>0.873361</td>\n",
       "      <td>10.592140</td>\n",
       "    </tr>\n",
       "    <tr>\n",
       "      <th>3</th>\n",
       "      <td>6.942369</td>\n",
       "      <td>0.22</td>\n",
       "      <td>1.090815</td>\n",
       "      <td>10.4</td>\n",
       "      <td>0.084264</td>\n",
       "      <td>116.195476</td>\n",
       "      <td>360.264333</td>\n",
       "      <td>0.9987</td>\n",
       "      <td>3.657075</td>\n",
       "      <td>0.565282</td>\n",
       "      <td>11.219277</td>\n",
       "    </tr>\n",
       "    <tr>\n",
       "      <th>4</th>\n",
       "      <td>6.235026</td>\n",
       "      <td>0.28</td>\n",
       "      <td>0.101780</td>\n",
       "      <td>8.7</td>\n",
       "      <td>0.096892</td>\n",
       "      <td>123.352272</td>\n",
       "      <td>209.157680</td>\n",
       "      <td>0.9961</td>\n",
       "      <td>2.971558</td>\n",
       "      <td>0.896674</td>\n",
       "      <td>10.438754</td>\n",
       "    </tr>\n",
       "  </tbody>\n",
       "</table>\n",
       "</div>"
      ],
      "text/plain": [
       "   fixed acidity  volatile acidity  critric acid  residual sugar  chlorides  \\\n",
       "0       8.567376              0.15      0.820326             1.6   0.174755   \n",
       "1       3.006749              0.28      1.602516             1.8   0.341262   \n",
       "2       7.354262              0.24      1.138284             7.7   0.303813   \n",
       "3       6.942369              0.22      1.090815            10.4   0.084264   \n",
       "4       6.235026              0.28      0.101780             8.7   0.096892   \n",
       "\n",
       "   free sulfur dioxide  total sulfur dioxide  density        pH  sulphates  \\\n",
       "0           243.304154            100.354988   0.9948  3.456648   0.604694   \n",
       "1           218.125676            310.740380   0.9929  2.779328   1.049840   \n",
       "2           153.170821            166.964841   0.9938  2.945272   0.873361   \n",
       "3           116.195476            360.264333   0.9987  3.657075   0.565282   \n",
       "4           123.352272            209.157680   0.9961  2.971558   0.896674   \n",
       "\n",
       "     alcohol  \n",
       "0  13.297994  \n",
       "1   9.134693  \n",
       "2  10.592140  \n",
       "3  11.219277  \n",
       "4  10.438754  "
      ]
     },
     "execution_count": 90,
     "metadata": {},
     "output_type": "execute_result"
    }
   ],
   "source": [
    "x.head()"
   ]
  },
  {
   "cell_type": "code",
   "execution_count": 91,
   "metadata": {},
   "outputs": [
    {
     "data": {
      "text/plain": [
       "0    7\n",
       "1    5\n",
       "2    6\n",
       "3    6\n",
       "4    5\n",
       "Name: quality, dtype: int64"
      ]
     },
     "execution_count": 91,
     "metadata": {},
     "output_type": "execute_result"
    }
   ],
   "source": [
    "y.head()"
   ]
  },
  {
   "cell_type": "markdown",
   "metadata": {},
   "source": [
    "### Splitting into Train and Test data"
   ]
  },
  {
   "cell_type": "code",
   "execution_count": 92,
   "metadata": {},
   "outputs": [],
   "source": [
    "x_train, x_test, y_train, y_test = train_test_split(x,y,test_size=0.2) "
   ]
  },
  {
   "cell_type": "code",
   "execution_count": 93,
   "metadata": {
    "scrolled": true
   },
   "outputs": [
    {
     "name": "stdout",
     "output_type": "stream",
     "text": [
      "shape of original dataset : (4000, 12)\n",
      "shape of input - training set (3200, 11)\n",
      "shape of output - training set (3200,)\n",
      "shape of input - testing set (800, 11)\n",
      "shape of output - testing set (800,)\n"
     ]
    }
   ],
   "source": [
    "print(\"shape of original dataset :\", data.shape)\n",
    "print(\"shape of input - training set\", x_train.shape)\n",
    "print(\"shape of output - training set\", y_train.shape)\n",
    "print(\"shape of input - testing set\", x_test.shape)\n",
    "print(\"shape of output - testing set\", y_test.shape)"
   ]
  },
  {
   "cell_type": "markdown",
   "metadata": {},
   "source": [
    "### Scaling the data by dividing with Maximum number"
   ]
  },
  {
   "cell_type": "code",
   "execution_count": 94,
   "metadata": {},
   "outputs": [],
   "source": [
    "# Dividing the Original Data by the max value of each column\n",
    "transformer = MaxAbsScaler()\n",
    "X_train = transformer.fit_transform(x_train)\n",
    "X_test = transformer.fit_transform(x_test)\n",
    "\n",
    "Y_train = transformer.fit_transform(y_train.values.reshape(-1,1))\n",
    "Y_test = transformer.fit_transform(y_test.values.reshape(-1,1))"
   ]
  },
  {
   "cell_type": "code",
   "execution_count": 95,
   "metadata": {},
   "outputs": [
    {
     "data": {
      "text/plain": [
       "array([[0.71749491, 0.39800995, 0.83286963, ..., 0.87041113, 0.66165872,\n",
       "        0.86433318],\n",
       "       [0.53420099, 0.23880597, 0.22216536, ..., 0.72373601, 0.95264716,\n",
       "        0.87633865],\n",
       "       [0.4206763 , 0.35820896, 0.27090313, ..., 0.90000244, 0.4242505 ,\n",
       "        0.73424603],\n",
       "       ...,\n",
       "       [0.84268783, 0.27860697, 0.95644651, ..., 0.83069939, 0.7729834 ,\n",
       "        0.66292583],\n",
       "       [0.21355937, 0.3681592 , 0.56675126, ..., 0.88882261, 0.7578319 ,\n",
       "        0.68116558],\n",
       "       [0.47193593, 0.39800995, 0.721628  , ..., 0.98940026, 0.78400157,\n",
       "        0.64206564]])"
      ]
     },
     "execution_count": 95,
     "metadata": {},
     "output_type": "execute_result"
    }
   ],
   "source": [
    "X_train"
   ]
  },
  {
   "cell_type": "code",
   "execution_count": 96,
   "metadata": {},
   "outputs": [],
   "source": [
    "#Defining the Activation Function\n",
    "def sigmoid(x):\n",
    "    return 1 / (1 + np.exp(-x))\n",
    "\n",
    "def sigmoid_derivative(y):\n",
    "    return sigmoid(y)*(1-sigmoid(y))"
   ]
  },
  {
   "cell_type": "markdown",
   "metadata": {},
   "source": [
    "## Defining the model architecture"
   ]
  },
  {
   "cell_type": "code",
   "execution_count": 149,
   "metadata": {},
   "outputs": [],
   "source": [
    "# Defining the Neural Network Function and its attributes\n",
    "def NN(X_train, Y_train, hiddenLayer_neurons, lr, epochs):\n",
    "    inputLayer_neurons = X_train.shape[1]  # number of features in data set\n",
    "    hiddenLayer_neurons = 10  # number of hidden layers neurons\n",
    "    outputLayer_neurons = 1  # number of neurons at output layer\n",
    "    np.random.seed(0) # to get the same values when they are implemented each time\n",
    "\n",
    "    # initializing weight\n",
    "    W1 = np.random.randn(inputLayer_neurons, hiddenLayer_neurons)\n",
    "    W2 = np.random.randn(hiddenLayer_neurons, outputLayer_neurons)\n",
    "\n",
    "    # defining the parameters\n",
    "#     lr = 0.0001\n",
    "#     epochs = 10000\n",
    "\n",
    "\n",
    "    losses = []\n",
    "    for epoch in range(epochs):\n",
    "        ## Forward Propogation\n",
    "\n",
    "        # calculating hidden layer activations\n",
    "        hiddenLayer_linearTransform = np.dot(X_train, W1)\n",
    "        hiddenLayer_activations = sigmoid(hiddenLayer_linearTransform)\n",
    "\n",
    "        # calculating the output\n",
    "        outputLayer_linearTransform = np.dot(hiddenLayer_activations, W2)\n",
    "        output = sigmoid(outputLayer_linearTransform)\n",
    "\n",
    "        ## Backward Propagation\n",
    "\n",
    "        # calculating error\n",
    "        loss = np.square(Y_train - output) / 2\n",
    "    #     ================================== Phase 1 errors ==================================\n",
    "\n",
    "        # calculating rate of change of error w.r.t weight between hidden and output layer\n",
    "        derror_douto = -(Y_train - output)\n",
    "\n",
    "        douto_dino = sigmoid_derivative(output)\n",
    "        dino_dwo = hiddenLayer_activations\n",
    "        derror_dwo = np.dot(dino_dwo.T, derror_douto * douto_dino)\n",
    "\n",
    "    #     ================================== Phase 2 errors ==================================\n",
    "\n",
    "        # calculating rate of change of error w.r.t weights between input and hidden layer\n",
    "        derror_dino = derror_douto * douto_dino\n",
    "        dino_douth = W2\n",
    "        derror_douth = np.dot(derror_dino, dino_douth.T)\n",
    "        douth_dinh = sigmoid_derivative(hiddenLayer_linearTransform)\n",
    "        dinh_dwh = X_train\n",
    "        derror_wh = np.dot(dinh_dwh.T, douth_dinh * derror_douth)\n",
    "\n",
    "        # updating the weights\n",
    "        W2 = W2 - lr * derror_dwo\n",
    "        W1 = W1 - lr * derror_wh\n",
    "\n",
    "        # print error at every 1000th epoch\n",
    "        epoch_loss = np.average(loss)\n",
    "        if epoch % 1000 == 0:\n",
    "            print(f\"Error at epoch {epoch} is {epoch_loss:.5f}\")\n",
    "\n",
    "        # appending the error of each epoch\n",
    "        losses.append(epoch_loss)\n",
    "\n",
    "    return W1, W2, losses"
   ]
  },
  {
   "cell_type": "markdown",
   "metadata": {},
   "source": [
    "### When Neurons are 10 and lr = 0.0001"
   ]
  },
  {
   "cell_type": "code",
   "execution_count": 150,
   "metadata": {},
   "outputs": [
    {
     "name": "stdout",
     "output_type": "stream",
     "text": [
      "Error at epoch 0 is 0.02632\n",
      "Error at epoch 1000 is 0.00492\n",
      "Error at epoch 2000 is 0.00403\n",
      "Error at epoch 3000 is 0.00355\n",
      "Error at epoch 4000 is 0.00321\n",
      "Error at epoch 5000 is 0.00295\n",
      "Error at epoch 6000 is 0.00276\n",
      "Error at epoch 7000 is 0.00260\n",
      "Error at epoch 8000 is 0.00246\n",
      "Error at epoch 9000 is 0.00235\n"
     ]
    }
   ],
   "source": [
    "W1, W2, losses = NN(X_train, Y_train, hiddenLayer_neurons = 10, lr = 0.0001, epochs = 10000)"
   ]
  },
  {
   "cell_type": "code",
   "execution_count": 99,
   "metadata": {},
   "outputs": [],
   "source": [
    "def run(inputs, W1, W2):\n",
    "    # Run a forward pass through the network\n",
    "    #### Implement the forward pass here ####\n",
    "    #  Hidden layer\n",
    "    hidden_inputs = np.dot(inputs, W1)# signals into hidden layer\n",
    "    hidden_outputs = sigmoid(hidden_inputs) # signals from hidden layer\n",
    "\n",
    "    # TODO: Output layer\n",
    "    final_inputs = np.dot(hidden_outputs, W2) # signals into final output layer\n",
    "    final_outputs = final_inputs # signals from final output layer\n",
    "\n",
    "    return final_outputs"
   ]
  },
  {
   "cell_type": "code",
   "execution_count": 100,
   "metadata": {},
   "outputs": [],
   "source": [
    "predictions = run(X_test, W1, W2)"
   ]
  },
  {
   "cell_type": "code",
   "execution_count": 101,
   "metadata": {},
   "outputs": [],
   "source": [
    "epochs = 10000"
   ]
  },
  {
   "cell_type": "code",
   "execution_count": 103,
   "metadata": {
    "scrolled": false
   },
   "outputs": [
    {
     "data": {
      "image/png": "[encoded data removed]",
      "text/plain": [
       "<Figure size 432x288 with 1 Axes>"
      ]
     },
     "metadata": {
      "needs_background": "light"
     },
     "output_type": "display_data"
    }
   ],
   "source": [
    "plt.plot(np.arange(1, epochs + 1), np.array(losses),label='Loss per iteration')\n",
    "plt.title('LOSS', size=18)\n",
    "plt.legend(loc='upper right', fontsize=18)\n",
    "plt.xlabel('No.of Iterations', size=16) \n",
    "plt.ylabel('Loss', size=16)\n",
    "plt.tick_params(labelsize=13)\n",
    "plt.savefig('LOSS', \n",
    "            bbox_inches='tight', dpi=300, pad_inches=0.0)"
   ]
  },
  {
   "cell_type": "code",
   "execution_count": 104,
   "metadata": {},
   "outputs": [],
   "source": [
    "def run(inputs, W1, W2):\n",
    "    \"\"\"\n",
    "    This is a function for predictions of test data\n",
    "    \"\"\"\n",
    "    # Run a forward pass through the network\n",
    "    #### Implement the forward pass here ####\n",
    "    #  Hidden layer\n",
    "    hidden_inputs = np.dot(inputs, W1)# signals into hidden layer\n",
    "    hidden_outputs = sigmoid(hidden_inputs) # signals from hidden layer\n",
    "\n",
    "    # TODO: Output layer\n",
    "    final_inputs = np.dot(hidden_outputs, W2) # signals into final output layer\n",
    "    final_outputs = final_inputs # signals from final output layer\n",
    "\n",
    "    return final_outputs"
   ]
  },
  {
   "cell_type": "code",
   "execution_count": 105,
   "metadata": {
    "scrolled": true
   },
   "outputs": [],
   "source": [
    "predictions = run(X_test, W1, W2)"
   ]
  },
  {
   "cell_type": "code",
   "execution_count": 106,
   "metadata": {},
   "outputs": [],
   "source": [
    "df = pd.DataFrame(W1)"
   ]
  },
  {
   "cell_type": "code",
   "execution_count": 107,
   "metadata": {},
   "outputs": [],
   "source": [
    "file = \"W1.xlsx\""
   ]
  },
  {
   "cell_type": "code",
   "execution_count": 108,
   "metadata": {},
   "outputs": [],
   "source": [
    "df.to_excel(file, index = False)"
   ]
  },
  {
   "cell_type": "code",
   "execution_count": 109,
   "metadata": {},
   "outputs": [
    {
     "data": {
      "text/plain": [
       "array([[ 0.67049014],\n",
       "       [ 1.28708979],\n",
       "       [-2.25824545],\n",
       "       [ 1.08843367],\n",
       "       [-0.6625624 ],\n",
       "       [ 0.43439312],\n",
       "       [ 1.07577746],\n",
       "       [-0.31727156],\n",
       "       [ 0.17120575],\n",
       "       [ 0.94542949]])"
      ]
     },
     "execution_count": 109,
     "metadata": {},
     "output_type": "execute_result"
    }
   ],
   "source": [
    "W2"
   ]
  },
  {
   "cell_type": "code",
   "execution_count": 110,
   "metadata": {},
   "outputs": [],
   "source": [
    "df_1 = pd.DataFrame(W2)"
   ]
  },
  {
   "cell_type": "code",
   "execution_count": 111,
   "metadata": {},
   "outputs": [],
   "source": [
    "file_1 = \"W2.xlsx\""
   ]
  },
  {
   "cell_type": "code",
   "execution_count": 112,
   "metadata": {},
   "outputs": [],
   "source": [
    "df_1.to_excel(file_1, index = False)"
   ]
  },
  {
   "cell_type": "code",
   "execution_count": 115,
   "metadata": {},
   "outputs": [
    {
     "name": "stderr",
     "output_type": "stream",
     "text": [
      "*c* argument looks like a single numeric RGB or RGBA sequence, which should be avoided as value-mapping will have precedence in case its length matches with *x* & *y*.  Please use the *color* keyword-argument or provide a 2-D array with a single row if you intend to specify the same RGB or RGBA value for all points.\n"
     ]
    },
    {
     "data": {
      "image/png": "[encoded data removed]",
      "text/plain": [
       "<Figure size 1080x432 with 1 Axes>"
      ]
     },
     "metadata": {
      "needs_background": "light"
     },
     "output_type": "display_data"
    }
   ],
   "source": [
    "plt.figure(figsize=(15,6))\n",
    "colours = (0,0,0)\n",
    "plt.scatter(predictions, Y_test, s= None,c=colours, alpha=0.5)\n",
    "plt.xlabel('Predicted Target Variables')\n",
    "plt.ylabel('Observed Target Values')\n",
    "plt.savefig('Predicted Target vs Observed Target', \n",
    "            bbox_inches='tight', dpi=300, pad_inches=0.0)\n",
    "plt.show()"
   ]
  },
  {
   "cell_type": "markdown",
   "metadata": {},
   "source": [
    "## When Neurons are 9 and lr = 0.0001"
   ]
  },
  {
   "cell_type": "code",
   "execution_count": 139,
   "metadata": {},
   "outputs": [
    {
     "name": "stdout",
     "output_type": "stream",
     "text": [
      "Error at epoch 0 is 0.00846\n",
      "Error at epoch 1000 is 0.00206\n",
      "Error at epoch 2000 is 0.00163\n",
      "Error at epoch 3000 is 0.00150\n",
      "Error at epoch 4000 is 0.00145\n",
      "Error at epoch 5000 is 0.00142\n",
      "Error at epoch 6000 is 0.00141\n",
      "Error at epoch 7000 is 0.00140\n",
      "Error at epoch 8000 is 0.00139\n",
      "Error at epoch 9000 is 0.00138\n"
     ]
    }
   ],
   "source": [
    "W1_9, W2_9, losses_9 = NN(X_train, Y_train, hiddenLayer_neurons = 9, lr = 0.0001, epochs = 10000)"
   ]
  },
  {
   "cell_type": "code",
   "execution_count": 117,
   "metadata": {},
   "outputs": [],
   "source": [
    "epochs = 10000"
   ]
  },
  {
   "cell_type": "code",
   "execution_count": 118,
   "metadata": {},
   "outputs": [
    {
     "data": {
      "text/plain": [
       "[<matplotlib.lines.Line2D at 0x19ecc5ca4c0>]"
      ]
     },
     "execution_count": 118,
     "metadata": {},
     "output_type": "execute_result"
    },
    {
     "data": {
      "image/png": "[encoded data removed]",
      "text/plain": [
       "<Figure size 432x288 with 1 Axes>"
      ]
     },
     "metadata": {
      "needs_background": "light"
     },
     "output_type": "display_data"
    }
   ],
   "source": [
    "plt.plot(np.arange(1, epochs + 1), np.array(losses_9))"
   ]
  },
  {
   "cell_type": "code",
   "execution_count": 119,
   "metadata": {},
   "outputs": [],
   "source": [
    "predictions_9 = run(X_test, W1_9, W2_9)"
   ]
  },
  {
   "cell_type": "code",
   "execution_count": 120,
   "metadata": {
    "scrolled": true
   },
   "outputs": [],
   "source": [
    "y = (predictions_9)\n",
    "x =(Y_test)"
   ]
  },
  {
   "cell_type": "code",
   "execution_count": 121,
   "metadata": {},
   "outputs": [
    {
     "data": {
      "text/plain": [
       "<matplotlib.collections.PathCollection at 0x19eca8fbd60>"
      ]
     },
     "execution_count": 121,
     "metadata": {},
     "output_type": "execute_result"
    },
    {
     "data": {
      "image/png": "[encoded data removed]",
      "text/plain": [
       "<Figure size 432x288 with 1 Axes>"
      ]
     },
     "metadata": {
      "needs_background": "light"
     },
     "output_type": "display_data"
    }
   ],
   "source": [
    "plt.scatter(x,y)"
   ]
  },
  {
   "cell_type": "markdown",
   "metadata": {},
   "source": [
    "### When Neurons are 9 and lr = 0.001"
   ]
  },
  {
   "cell_type": "code",
   "execution_count": 122,
   "metadata": {},
   "outputs": [
    {
     "name": "stdout",
     "output_type": "stream",
     "text": [
      "Error at epoch 0 is 0.00846\n",
      "Error at epoch 1000 is 0.00221\n",
      "Error at epoch 2000 is 0.00178\n",
      "Error at epoch 3000 is 0.00162\n",
      "Error at epoch 4000 is 0.00156\n",
      "Error at epoch 5000 is 0.00153\n",
      "Error at epoch 6000 is 0.00152\n",
      "Error at epoch 7000 is 0.00151\n",
      "Error at epoch 8000 is 0.00150\n",
      "Error at epoch 9000 is 0.00149\n"
     ]
    }
   ],
   "source": [
    "W1_9_lr, W2_9_lr, losses_9_lr = NN(X_train, Y_train, hiddenLayer_neurons = 9, lr = 0.001, epochs = 10000)"
   ]
  },
  {
   "cell_type": "code",
   "execution_count": 123,
   "metadata": {},
   "outputs": [],
   "source": [
    "epochs = 10000"
   ]
  },
  {
   "cell_type": "code",
   "execution_count": 124,
   "metadata": {},
   "outputs": [
    {
     "data": {
      "text/plain": [
       "[<matplotlib.lines.Line2D at 0x19ecc68b550>]"
      ]
     },
     "execution_count": 124,
     "metadata": {},
     "output_type": "execute_result"
    },
    {
     "data": {
      "image/png": "[encoded data removed]",
      "text/plain": [
       "<Figure size 432x288 with 1 Axes>"
      ]
     },
     "metadata": {
      "needs_background": "light"
     },
     "output_type": "display_data"
    }
   ],
   "source": [
    "plt.plot(np.arange(1, epochs + 1), np.array(losses_9_lr))"
   ]
  },
  {
   "cell_type": "code",
   "execution_count": 125,
   "metadata": {},
   "outputs": [],
   "source": [
    "predictions_9_lr = run(X_test, W1_9_lr, W2_9_lr)"
   ]
  },
  {
   "cell_type": "code",
   "execution_count": 126,
   "metadata": {},
   "outputs": [
    {
     "name": "stderr",
     "output_type": "stream",
     "text": [
      "*c* argument looks like a single numeric RGB or RGBA sequence, which should be avoided as value-mapping will have precedence in case its length matches with *x* & *y*.  Please use the *color* keyword-argument or provide a 2-D array with a single row if you intend to specify the same RGB or RGBA value for all points.\n"
     ]
    },
    {
     "data": {
      "image/png": "[encoded data removed]",
      "text/plain": [
       "<Figure size 1080x432 with 1 Axes>"
      ]
     },
     "metadata": {
      "needs_background": "light"
     },
     "output_type": "display_data"
    }
   ],
   "source": [
    "plt.figure(figsize=(15,6))\n",
    "colours = (0,0,0)\n",
    "plt.scatter(predictions_9_lr, Y_test, s= None,c=colours, alpha=0.5)\n",
    "plt.xlabel('Predicted Target Variables')\n",
    "plt.ylabel('Observed Target Values')\n",
    "plt.savefig('Predicted Target vs Observed Target', \n",
    "            bbox_inches='tight', dpi=300, pad_inches=0.0)\n",
    "plt.show()"
   ]
  },
  {
   "cell_type": "markdown",
   "metadata": {},
   "source": [
    "## When Neurons are 9 and lr = 0.01"
   ]
  },
  {
   "cell_type": "code",
   "execution_count": 142,
   "metadata": {},
   "outputs": [
    {
     "name": "stdout",
     "output_type": "stream",
     "text": [
      "Error at epoch 0 is 0.00846\n",
      "Error at epoch 1000 is 0.00206\n",
      "Error at epoch 2000 is 0.00163\n",
      "Error at epoch 3000 is 0.00150\n",
      "Error at epoch 4000 is 0.00145\n",
      "Error at epoch 5000 is 0.00142\n",
      "Error at epoch 6000 is 0.00141\n",
      "Error at epoch 7000 is 0.00140\n",
      "Error at epoch 8000 is 0.00139\n",
      "Error at epoch 9000 is 0.00138\n"
     ]
    }
   ],
   "source": [
    "W1_9_1, W2_9_1, losses_9_1 = NN(X_train, Y_train, hiddenLayer_neurons = 9, lr = 0.01, epochs = 10000)"
   ]
  },
  {
   "cell_type": "markdown",
   "metadata": {},
   "source": [
    "## When Neurons are 9 and lr = 0.01"
   ]
  },
  {
   "cell_type": "code",
   "execution_count": 143,
   "metadata": {},
   "outputs": [
    {
     "name": "stdout",
     "output_type": "stream",
     "text": [
      "Error at epoch 0 is 0.00846\n",
      "Error at epoch 1000 is 0.03653\n",
      "Error at epoch 2000 is 0.03653\n",
      "Error at epoch 3000 is 0.03653\n",
      "Error at epoch 4000 is 0.03653\n",
      "Error at epoch 5000 is 0.03653\n",
      "Error at epoch 6000 is 0.03653\n",
      "Error at epoch 7000 is 0.03653\n",
      "Error at epoch 8000 is 0.03653\n",
      "Error at epoch 9000 is 0.03653\n"
     ]
    }
   ],
   "source": [
    "W1_9_2, W2_9_2, losses_9_2 = NN(X_train, Y_train, hiddenLayer_neurons = 9, lr = 0.1, epochs = 10000)"
   ]
  },
  {
   "cell_type": "markdown",
   "metadata": {},
   "source": [
    "## When Neurons are 8 and lr = 0.0001"
   ]
  },
  {
   "cell_type": "code",
   "execution_count": 127,
   "metadata": {
    "scrolled": true
   },
   "outputs": [
    {
     "name": "stdout",
     "output_type": "stream",
     "text": [
      "Error at epoch 0 is 0.00736\n",
      "Error at epoch 1000 is 0.00479\n",
      "Error at epoch 2000 is 0.00425\n",
      "Error at epoch 3000 is 0.00397\n",
      "Error at epoch 4000 is 0.00379\n",
      "Error at epoch 5000 is 0.00366\n",
      "Error at epoch 6000 is 0.00356\n",
      "Error at epoch 7000 is 0.00347\n",
      "Error at epoch 8000 is 0.00338\n",
      "Error at epoch 9000 is 0.00330\n"
     ]
    }
   ],
   "source": [
    "W1_8, W2_8, losses_8 = NN(X_train, Y_train, hiddenLayer_neurons = 8, lr = 0.0001, epochs = 10000)"
   ]
  },
  {
   "cell_type": "code",
   "execution_count": 128,
   "metadata": {},
   "outputs": [],
   "source": [
    "epochs = 10000"
   ]
  },
  {
   "cell_type": "code",
   "execution_count": 129,
   "metadata": {},
   "outputs": [
    {
     "data": {
      "text/plain": [
       "[<matplotlib.lines.Line2D at 0x19ecd71e160>]"
      ]
     },
     "execution_count": 129,
     "metadata": {},
     "output_type": "execute_result"
    },
    {
     "data": {
      "image/png": "[encoded data removed]",
      "text/plain": [
       "<Figure size 432x288 with 1 Axes>"
      ]
     },
     "metadata": {
      "needs_background": "light"
     },
     "output_type": "display_data"
    }
   ],
   "source": [
    "plt.plot(np.arange(1, epochs + 1), np.array(losses_8))"
   ]
  },
  {
   "cell_type": "code",
   "execution_count": 130,
   "metadata": {},
   "outputs": [],
   "source": [
    "predictions_8 = run(X_test, W1_8, W2_8)"
   ]
  },
  {
   "cell_type": "code",
   "execution_count": 131,
   "metadata": {},
   "outputs": [
    {
     "name": "stderr",
     "output_type": "stream",
     "text": [
      "*c* argument looks like a single numeric RGB or RGBA sequence, which should be avoided as value-mapping will have precedence in case its length matches with *x* & *y*.  Please use the *color* keyword-argument or provide a 2-D array with a single row if you intend to specify the same RGB or RGBA value for all points.\n"
     ]
    },
    {
     "data": {
      "image/png": "[encoded data removed]",
      "text/plain": [
       "<Figure size 1080x432 with 1 Axes>"
      ]
     },
     "metadata": {
      "needs_background": "light"
     },
     "output_type": "display_data"
    }
   ],
   "source": [
    "plt.figure(figsize=(15,6))\n",
    "colours = (0,0,0)\n",
    "plt.scatter(predictions_8, Y_test, s= None,c=colours, alpha=0.5)\n",
    "plt.xlabel('Predicted Target Variables')\n",
    "plt.ylabel('Observed Target Values')\n",
    "plt.savefig('Predicted Target vs Observed Target', \n",
    "            bbox_inches='tight', dpi=300, pad_inches=0.0)\n",
    "plt.show()"
   ]
  },
  {
   "cell_type": "markdown",
   "metadata": {},
   "source": [
    "### When Neurons are 8 and lr = 0.001"
   ]
  },
  {
   "cell_type": "code",
   "execution_count": 132,
   "metadata": {},
   "outputs": [
    {
     "name": "stdout",
     "output_type": "stream",
     "text": [
      "Error at epoch 0 is 0.00736\n",
      "Error at epoch 1000 is 0.00322\n",
      "Error at epoch 2000 is 0.00247\n",
      "Error at epoch 3000 is 0.00187\n",
      "Error at epoch 4000 is 0.00162\n",
      "Error at epoch 5000 is 0.00154\n",
      "Error at epoch 6000 is 0.00151\n",
      "Error at epoch 7000 is 0.00150\n",
      "Error at epoch 8000 is 0.00149\n",
      "Error at epoch 9000 is 0.00149\n"
     ]
    },
    {
     "data": {
      "text/plain": [
       "[<matplotlib.lines.Line2D at 0x19ecd79c340>]"
      ]
     },
     "execution_count": 132,
     "metadata": {},
     "output_type": "execute_result"
    },
    {
     "data": {
      "image/png": "[encoded data removed]",
      "text/plain": [
       "<Figure size 432x288 with 1 Axes>"
      ]
     },
     "metadata": {
      "needs_background": "light"
     },
     "output_type": "display_data"
    }
   ],
   "source": [
    "W1_8_lr, W2_8_lr, losses_8_lr = NN(X_train, Y_train, hiddenLayer_neurons = 8, lr = 0.001, epochs = 10000)\n",
    "plt.plot(np.arange(1, epochs + 1), np.array(losses_8_lr))"
   ]
  },
  {
   "cell_type": "code",
   "execution_count": 133,
   "metadata": {},
   "outputs": [],
   "source": [
    "epochs = 10000"
   ]
  },
  {
   "cell_type": "code",
   "execution_count": 134,
   "metadata": {},
   "outputs": [
    {
     "data": {
      "text/plain": [
       "[<matplotlib.lines.Line2D at 0x19ecd860280>]"
      ]
     },
     "execution_count": 134,
     "metadata": {},
     "output_type": "execute_result"
    },
    {
     "data": {
      "image/png": "[encoded data removed]",
      "text/plain": [
       "<Figure size 432x288 with 1 Axes>"
      ]
     },
     "metadata": {
      "needs_background": "light"
     },
     "output_type": "display_data"
    }
   ],
   "source": [
    "plt.plot(np.arange(1, epochs + 1), np.array(losses_8_lr))"
   ]
  },
  {
   "cell_type": "code",
   "execution_count": 136,
   "metadata": {},
   "outputs": [],
   "source": [
    "predictions_8_lr = run(X_test, W1_8_lr, W2_8_lr)"
   ]
  },
  {
   "cell_type": "code",
   "execution_count": 138,
   "metadata": {},
   "outputs": [
    {
     "name": "stderr",
     "output_type": "stream",
     "text": [
      "*c* argument looks like a single numeric RGB or RGBA sequence, which should be avoided as value-mapping will have precedence in case its length matches with *x* & *y*.  Please use the *color* keyword-argument or provide a 2-D array with a single row if you intend to specify the same RGB or RGBA value for all points.\n"
     ]
    },
    {
     "data": {
      "image/png": "[encoded data removed]",
      "text/plain": [
       "<Figure size 1080x432 with 1 Axes>"
      ]
     },
     "metadata": {
      "needs_background": "light"
     },
     "output_type": "display_data"
    }
   ],
   "source": [
    "plt.figure(figsize=(15,6))\n",
    "colours = (0,0,0)\n",
    "plt.scatter(predictions_8_lr, Y_test, s= None,c=colours, alpha=0.5)\n",
    "plt.xlabel('Predicted Target Variables')\n",
    "plt.ylabel('Observed Target Values')\n",
    "plt.savefig('Predicted Target vs Observed Target', \n",
    "            bbox_inches='tight', dpi=300, pad_inches=0.0)\n",
    "plt.show()"
   ]
  },
  {
   "cell_type": "markdown",
   "metadata": {},
   "source": [
    "### When Neurons are 8 and lr = 0.01"
   ]
  },
  {
   "cell_type": "code",
   "execution_count": 144,
   "metadata": {},
   "outputs": [
    {
     "name": "stdout",
     "output_type": "stream",
     "text": [
      "Error at epoch 0 is 0.00736\n",
      "Error at epoch 1000 is 0.00185\n",
      "Error at epoch 2000 is 0.00154\n",
      "Error at epoch 3000 is 0.00145\n",
      "Error at epoch 4000 is 0.00142\n",
      "Error at epoch 5000 is 0.00141\n",
      "Error at epoch 6000 is 0.00140\n",
      "Error at epoch 7000 is 0.00140\n",
      "Error at epoch 8000 is 0.00140\n",
      "Error at epoch 9000 is 0.00139\n"
     ]
    }
   ],
   "source": [
    "W1_8_1, W2_8_1, losses_8_1 = NN(X_train, Y_train, hiddenLayer_neurons = 8, lr = 0.01, epochs = 10000)"
   ]
  },
  {
   "cell_type": "markdown",
   "metadata": {},
   "source": [
    "### When Neurons are 8 and lr = 0.1"
   ]
  },
  {
   "cell_type": "code",
   "execution_count": 145,
   "metadata": {},
   "outputs": [
    {
     "name": "stdout",
     "output_type": "stream",
     "text": [
      "Error at epoch 0 is 0.00736\n",
      "Error at epoch 1000 is 0.03653\n",
      "Error at epoch 2000 is 0.03653\n",
      "Error at epoch 3000 is 0.03653\n",
      "Error at epoch 4000 is 0.03653\n",
      "Error at epoch 5000 is 0.03653\n",
      "Error at epoch 6000 is 0.03653\n",
      "Error at epoch 7000 is 0.03653\n",
      "Error at epoch 8000 is 0.03653\n",
      "Error at epoch 9000 is 0.03653\n"
     ]
    }
   ],
   "source": [
    "W1_8_2, W2_8_2, losses_8_2 = NN(X_train, Y_train, hiddenLayer_neurons = 8, lr = 0.1, epochs = 10000)"
   ]
  },
  {
   "cell_type": "code",
   "execution_count": null,
   "metadata": {},
   "outputs": [],
   "source": []
  }
 ],
 "metadata": {
  "kernelspec": {
   "display_name": "Python 3",
   "language": "python",
   "name": "python3"
  },
  "language_info": {
   "codemirror_mode": {
    "name": "ipython",
    "version": 3
   },
   "file_extension": ".py",
   "mimetype": "text/x-python",
   "name": "python",
   "nbconvert_exporter": "python",
   "pygments_lexer": "ipython3",
   "version": "3.8.3"
  },
  "toc": {
   "base_numbering": 1,
   "nav_menu": {},
   "number_sections": true,
   "sideBar": true,
   "skip_h1_title": false,
   "title_cell": "Table of Contents",
   "title_sidebar": "Contents",
   "toc_cell": false,
   "toc_position": {},
   "toc_section_display": true,
   "toc_window_display": false
  }
 },
 "nbformat": 4,
 "nbformat_minor": 4
}
